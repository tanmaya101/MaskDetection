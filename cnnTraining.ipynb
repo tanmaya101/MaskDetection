{
  "nbformat": 4,
  "nbformat_minor": 0,
  "metadata": {
    "kernelspec": {
      "display_name": "Python 3",
      "language": "python",
      "name": "python3"
    },
    "language_info": {
      "codemirror_mode": {
        "name": "ipython",
        "version": 3
      },
      "file_extension": ".py",
      "mimetype": "text/x-python",
      "name": "python",
      "nbconvert_exporter": "python",
      "pygments_lexer": "ipython3",
      "version": "3.8.3"
    },
    "colab": {
      "name": "2.0 training the CNN.ipynb",
      "provenance": []
    }
  },
  "cells": [
    {
      "cell_type": "code",
      "metadata": {
        "id": "2UvsBxHhp_ws"
      },
      "source": [
        "import numpy as np\n",
        "\n",
        "data=np.load('data.npy')\n",
        "target=np.load('target.npy')\n"
      ],
      "execution_count": null,
      "outputs": []
    },
    {
      "cell_type": "code",
      "metadata": {
        "id": "GNnq4xqsp_wu",
        "outputId": "1e4da742-15a1-4ee7-ca36-25320bf77604"
      },
      "source": [
        "data.shape"
      ],
      "execution_count": null,
      "outputs": [
        {
          "data": {
            "text/plain": [
              "(7553, 100, 100, 1)"
            ]
          },
          "execution_count": 2,
          "metadata": {},
          "output_type": "execute_result"
        }
      ]
    },
    {
      "cell_type": "code",
      "metadata": {
        "id": "dH-2ZcZcp_ww"
      },
      "source": [
        "from keras.models import Sequential\n",
        "from keras.layers import Dense,Activation,Flatten,Dropout\n",
        "from keras.layers import Conv2D,MaxPooling2D\n",
        "from keras.callbacks import ModelCheckpoint\n",
        "\n",
        "model=Sequential()\n",
        "\n",
        "model.add(Conv2D(200,(3,3),input_shape=data.shape[1:]))\n",
        "model.add(Activation('relu'))\n",
        "model.add(MaxPooling2D(pool_size=(2,2)))\n",
        "\n",
        "model.add(Conv2D(100,(3,3)))\n",
        "model.add(Activation('relu'))\n",
        "model.add(MaxPooling2D(pool_size=(2,2)))\n",
        "\n",
        "model.add(Flatten())\n",
        "model.add(Dropout(0.5))\n",
        "model.add(Dense(50,activation='relu'))\n",
        "model.add(Dense(2,activation='softmax'))\n",
        "\n",
        "model.compile(loss='categorical_crossentropy',optimizer='adam',metrics=['accuracy'])"
      ],
      "execution_count": null,
      "outputs": []
    },
    {
      "cell_type": "code",
      "metadata": {
        "id": "1cwITnqtp_ww"
      },
      "source": [
        "from sklearn.model_selection import train_test_split\n",
        "\n",
        "train_data,test_data,train_target,test_target=train_test_split(data,target,test_size=0.1)"
      ],
      "execution_count": null,
      "outputs": []
    },
    {
      "cell_type": "code",
      "metadata": {
        "id": "p2x-xolap_wx",
        "outputId": "0a105415-7308-46b9-ebd9-21d0e6131173"
      },
      "source": [
        "checkpoint = ModelCheckpoint('model-{epoch:03d}.model',monitor='val_loss',verbose=0,save_best_only=True,mode='auto')\n",
        "history=model.fit(train_data,train_target,epochs=20,callbacks=[checkpoint],validation_split=0.2)"
      ],
      "execution_count": null,
      "outputs": [
        {
          "name": "stdout",
          "output_type": "stream",
          "text": [
            "Epoch 1/20\n",
            "170/170 [==============================] - 191s 1s/step - loss: 0.6303 - accuracy: 0.6489 - val_loss: 0.5316 - val_accuracy: 0.7500\n",
            "INFO:tensorflow:Assets written to: model-001.model\\assets\n",
            "Epoch 2/20\n",
            "170/170 [==============================] - 192s 1s/step - loss: 0.5042 - accuracy: 0.7557 - val_loss: 0.4276 - val_accuracy: 0.8081\n",
            "INFO:tensorflow:Assets written to: model-002.model\\assets\n",
            "Epoch 3/20\n",
            "170/170 [==============================] - 191s 1s/step - loss: 0.3939 - accuracy: 0.8181 - val_loss: 0.3593 - val_accuracy: 0.8353\n",
            "INFO:tensorflow:Assets written to: model-003.model\\assets\n",
            "Epoch 4/20\n",
            "170/170 [==============================] - 193s 1s/step - loss: 0.3122 - accuracy: 0.8602 - val_loss: 0.3126 - val_accuracy: 0.8676\n",
            "INFO:tensorflow:Assets written to: model-004.model\\assets\n",
            "Epoch 5/20\n",
            "170/170 [==============================] - 196s 1s/step - loss: 0.2661 - accuracy: 0.8856 - val_loss: 0.2993 - val_accuracy: 0.8757\n",
            "INFO:tensorflow:Assets written to: model-005.model\\assets\n",
            "Epoch 6/20\n",
            "170/170 [==============================] - 198s 1s/step - loss: 0.2074 - accuracy: 0.9136 - val_loss: 0.3027 - val_accuracy: 0.8779\n",
            "Epoch 7/20\n",
            "170/170 [==============================] - 193s 1s/step - loss: 0.1675 - accuracy: 0.9353 - val_loss: 0.2839 - val_accuracy: 0.8838\n",
            "INFO:tensorflow:Assets written to: model-007.model\\assets\n",
            "Epoch 8/20\n",
            "170/170 [==============================] - 193s 1s/step - loss: 0.1375 - accuracy: 0.9437 - val_loss: 0.2754 - val_accuracy: 0.8912\n",
            "INFO:tensorflow:Assets written to: model-008.model\\assets\n",
            "Epoch 9/20\n",
            "170/170 [==============================] - 192s 1s/step - loss: 0.1022 - accuracy: 0.9640 - val_loss: 0.2996 - val_accuracy: 0.8978\n",
            "Epoch 10/20\n",
            "170/170 [==============================] - 190s 1s/step - loss: 0.0909 - accuracy: 0.9671 - val_loss: 0.3222 - val_accuracy: 0.8860\n",
            "Epoch 11/20\n",
            "170/170 [==============================] - 191s 1s/step - loss: 0.0719 - accuracy: 0.9748 - val_loss: 0.3221 - val_accuracy: 0.8963\n",
            "Epoch 12/20\n",
            "170/170 [==============================] - 191s 1s/step - loss: 0.0624 - accuracy: 0.9781 - val_loss: 0.3115 - val_accuracy: 0.9000\n",
            "Epoch 13/20\n",
            "170/170 [==============================] - 191s 1s/step - loss: 0.0646 - accuracy: 0.9779 - val_loss: 0.3103 - val_accuracy: 0.8963\n",
            "Epoch 14/20\n",
            "170/170 [==============================] - 192s 1s/step - loss: 0.0481 - accuracy: 0.9834 - val_loss: 0.3328 - val_accuracy: 0.9007\n",
            "Epoch 15/20\n",
            "170/170 [==============================] - 191s 1s/step - loss: 0.0433 - accuracy: 0.9858 - val_loss: 0.3499 - val_accuracy: 0.8985\n",
            "Epoch 16/20\n",
            "170/170 [==============================] - 191s 1s/step - loss: 0.0391 - accuracy: 0.9873 - val_loss: 0.3666 - val_accuracy: 0.8912\n",
            "Epoch 17/20\n",
            "170/170 [==============================] - 193s 1s/step - loss: 0.0329 - accuracy: 0.9891 - val_loss: 0.3942 - val_accuracy: 0.8897\n",
            "Epoch 18/20\n",
            "170/170 [==============================] - 195s 1s/step - loss: 0.0331 - accuracy: 0.9890 - val_loss: 0.4014 - val_accuracy: 0.8846\n",
            "Epoch 19/20\n",
            "170/170 [==============================] - 203s 1s/step - loss: 0.0287 - accuracy: 0.9897 - val_loss: 0.3877 - val_accuracy: 0.9015\n",
            "Epoch 20/20\n",
            "170/170 [==============================] - 198s 1s/step - loss: 0.0320 - accuracy: 0.9891 - val_loss: 0.3825 - val_accuracy: 0.9015\n"
          ]
        }
      ]
    },
    {
      "cell_type": "code",
      "metadata": {
        "id": "1jT26zexp_wx",
        "outputId": "21c3e3a8-1cca-4913-e8dc-06091bec285a"
      },
      "source": [
        "from matplotlib import pyplot as plt\n",
        "\n",
        "plt.plot(history.history['loss'],'r',label='training loss')\n",
        "plt.plot(history.history['val_loss'],label='validation loss')\n",
        "plt.xlabel('# epochs')\n",
        "plt.ylabel('loss')\n",
        "plt.legend()\n",
        "plt.show()"
      ],
      "execution_count": null,
      "outputs": [
        {
          "data": {
            "image/png": "[encoded data removed]",
            "text/plain": [
              "<Figure size 432x288 with 1 Axes>"
            ]
          },
          "metadata": {
            "needs_background": "light"
          },
          "output_type": "display_data"
        }
      ]
    },
    {
      "cell_type": "code",
      "metadata": {
        "id": "kwXr2gOOp_wy",
        "outputId": "673ef35b-178d-4738-b55f-b77b6a80bb80"
      },
      "source": [
        "plt.plot(history.history['accuracy'],'r',label='training accuracy')\n",
        "plt.plot(history.history['val_accuracy'],label='validation accuracy')\n",
        "plt.xlabel('# epochs')\n",
        "plt.ylabel('loss')\n",
        "plt.legend()\n",
        "plt.show()"
      ],
      "execution_count": null,
      "outputs": [
        {
          "data": {
            "image/png": "[encoded data removed]",
            "text/plain": [
              "<Figure size 432x288 with 1 Axes>"
            ]
          },
          "metadata": {
            "needs_background": "light"
          },
          "output_type": "display_data"
        }
      ]
    },
    {
      "cell_type": "code",
      "metadata": {
        "id": "Z5H632sCp_wz",
        "outputId": "443f6306-0a6a-41a7-d4f3-2065e65001eb"
      },
      "source": [
        "print(model.evaluate(test_data,test_target))"
      ],
      "execution_count": null,
      "outputs": [
        {
          "name": "stdout",
          "output_type": "stream",
          "text": [
            "24/24 [==============================] - 7s 297ms/step - loss: 0.4276 - accuracy: 0.9034\n",
            "[0.42764556407928467, 0.9034391641616821]\n"
          ]
        }
      ]
    },
    {
      "cell_type": "code",
      "metadata": {
        "id": "M7QHlS12p_wz"
      },
      "source": [
        ""
      ],
      "execution_count": null,
      "outputs": []
    }
  ]
}